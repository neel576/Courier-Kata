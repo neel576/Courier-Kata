{
 "cells": [
  {
   "cell_type": "markdown",
   "metadata": {},
   "source": [
    "### Courier Kata (by Indranil Dutta):\n",
    "As the problem is multi-layered. I kept on adding few bits of code as I went along and saved it in this notebook.\n",
    "\n",
    "In this notebook, I prepare a dataset in the code itself for fast testing.\n",
    "\n",
    "The dummy dataset has information from 4 senders in a list as you see below. Each sender dictionary has the attributes:\n",
    "\n",
    "- Sender name\n",
    "- Dimensions (in cm) of each parcel\n",
    "- Corresponding weights (in kg) of each parcel\n",
    "- Speedy Shipping Request condition"
   ]
  },
  {
   "cell_type": "code",
   "execution_count": 251,
   "metadata": {},
   "outputs": [],
   "source": [
    "Sender_list =[{'Sender':'Will',\n",
    "               'Dimensions':[8,8,8,30,8,30,30,30,100,10,100,100],\n",
    "                  'Weights':[4,2,11,3,5,10,40,60,2,1,10,10],\n",
    "               'Speedy':'Y'},\n",
    "              \n",
    "         {'Sender':'Rohan',\n",
    "          'Dimensions':[49,49,49],\n",
    "             'Weights':[2,10,3],\n",
    "          'Speedy':'N'},\n",
    "              \n",
    "         {'Sender':'Toby',\n",
    "          'Dimensions':[25,20,3],\n",
    "             'Weights':[7,4,3],\n",
    "          'Speedy':'Y'},\n",
    "              \n",
    "         {'Sender':'Lea',\n",
    "          'Dimensions':[9,80,5],\n",
    "             'Weights':[53,20,3],\n",
    "          'Speedy':'N'}]"
   ]
  },
  {
   "cell_type": "markdown",
   "metadata": {},
   "source": [
    "Below I created a loop iterating through each sender's detail. There is also a nested loop that iterates through each parcel's weight and dimensions of the sender."
   ]
  },
  {
   "cell_type": "code",
   "execution_count": 260,
   "metadata": {},
   "outputs": [],
   "source": [
    "import numpy as np\n",
    "for Sender in Sender_list:\n",
    "    \n",
    "    # Finding the number of parcels\n",
    "    parcels = len(list(Sender['Dimensions']))\n",
    "    \n",
    "    # Each counter will count the type of parcel\n",
    "    Small =0; Medium = 0; Mixed=0;\n",
    "    \n",
    "    # Setting an array of zeros for Sender cost\n",
    "    Sender['Cost'] = np.zeros(parcels)\n",
    "    Sender['Discount'] = np.ones(parcels) \n",
    "    # Here I set an array of '1's. If  discount applies, then it will be '0'\n",
    "    \n",
    "    for p in list(range(0,parcels)):\n",
    "        Mixed+=1\n",
    "          \n",
    "        # Checking for Small parcels: Part 1\n",
    "        if Sender['Dimensions'][p]<10:\n",
    "            Small += 1\n",
    "            \n",
    "            # Every 4th Small parcel is free order: Part 5a\n",
    "            if Small%4 ==0:\n",
    "                Sender['Discount'][p] =0\n",
    "                Mixed-=1 # -1 to avoid counting already discounted parcels: Part 5d\n",
    "            \n",
    "            Sender['Cost'][p] =3\n",
    "            \n",
    "            # Checking for overweight of Small parcels: Part 3\n",
    "            if Sender['Weights'][p]>1:\n",
    "                Sender['Cost'][p] += (Sender['Weights'][p]-1)*2\n",
    "                \n",
    "        # Checking for Medium parcels: Part 1\n",
    "        elif Sender['Dimensions'][p]<50:\n",
    "            Medium += 1\n",
    "            \n",
    "            # Every 3rd Medium parcel is free order:  Part 5b\n",
    "            if Medium%3 ==0:\n",
    "                Sender['Discount'][p] =0\n",
    "                Mixed-=1\n",
    "  \n",
    "            Sender['Cost'][p] =8\n",
    "               \n",
    "            # Checking for overweight of Medium parcels: Part 3\n",
    "            if Sender['Weights'][p]>3:\n",
    "                Sender['Cost'][p] += (Sender['Weights'][p]-3)*2\n",
    "                \n",
    "        # Checking for Large parcels: Part 1\n",
    "        elif Sender['Dimensions'][p]<100:\n",
    "            Sender['Cost'][p] =15  \n",
    "            \n",
    "            # Checking for overweight of Large parcels: Part 3\n",
    "            if Sender['Weights'][p]>6:\n",
    "                Sender['Cost'][p] += (Sender['Weights'][p]-6)*2\n",
    "                \n",
    "        # Checking for XL parcels\n",
    "        else:\n",
    "            Sender['Cost'][p] =25         \n",
    "            # Checking for overweight of XL parcels: Part 1\n",
    "            if Sender['Weights'][p]>10:\n",
    "                Sender['Cost'][p] += (Sender['Weights'][p]-10)*2\n",
    "                \n",
    "        # Checking for overweight of Heavy parcels: Part 4\n",
    "        if Sender['Weights'][p]>50:\n",
    "            Sender['Cost'][p] = 50 +(Sender['Weights'][p]-50)\n",
    "            \n",
    "        # Every 5th parcel has no cost: Part 5c\n",
    "        if Mixed%5==0:\n",
    "            Sender['Discount'][p] =0\n",
    "            \n",
    "    Sender['Total'] = Sender['Cost']*Sender['Discount']\n",
    "    Sender['Savings'] = np.sum(Sender['Cost'])-np.sum(Sender['Total'])\n",
    "    "
   ]
  },
  {
   "cell_type": "markdown",
   "metadata": {},
   "source": [
    "I now print the total discounted cost and the savings for each sender. If the sender has chosen Speedy Shipping, the updated cost will be printed also."
   ]
  },
  {
   "cell_type": "code",
   "execution_count": 270,
   "metadata": {},
   "outputs": [
    {
     "name": "stdout",
     "output_type": "stream",
     "text": [
      "For Will, Total delivery cost: £163.0; Total savings: £140.0 \n",
      "As Speedy Shipping has been chosen, Delivery cost: £326.0\n",
      "\n",
      "\n",
      "For Rohan, Total delivery cost: £30.0; Total savings: £8.0 \n",
      "\n",
      "\n",
      "For Toby, Total delivery cost: £33.0; Total savings: £0.0 \n",
      "As Speedy Shipping has been chosen, Delivery cost: £66.0\n",
      "\n",
      "\n",
      "For Lea, Total delivery cost: £103.0; Total savings: £0.0 \n",
      "\n",
      "\n"
     ]
    }
   ],
   "source": [
    "for Sender in Sender_list:\n",
    "    print('For {0}, Total delivery cost: £{1}; Total savings: £{2}'\n",
    "          .format(Sender['Sender'],np.sum(Sender['Total']),np.sum(Sender['Savings'])))\n",
    "    \n",
    "    # Checking for Speedy Shipping request: Part 2\n",
    "    if Sender['Speedy'] =='Y': \n",
    "        print('As Speedy Shipping has been chosen, Delivery cost: £{0}'\n",
    "              .format(np.sum(Sender['Total']*2)))\n",
    "    print('\\n')"
   ]
  },
  {
   "cell_type": "markdown",
   "metadata": {},
   "source": [
    "#### Comments:\n",
    "I started with a smaller dataset in sender and also parcel number for all my code result testing.\n",
    "\n",
    "I finished Part 4 in two hours time but went abit beyond as Part 5 was the most interesting bit. I did not finish the whole problem but got solve upto Part 5d.\n",
    "\n",
    "The further changes would be:\n",
    "- To set the code up such that it takes inputs from the user, as a date file or a single entry inputs.\n",
    "- To finish the solution.\n",
    "- To reduce number of lines in the code. I introduced the comments for my ease and also for the reader's understanding.\n",
    "- Coming up with better decision stree steps to make multiple decisions in one code line\n",
    "\n"
   ]
  }
 ],
 "metadata": {
  "kernelspec": {
   "display_name": "Python 3",
   "language": "python",
   "name": "python3"
  },
  "language_info": {
   "codemirror_mode": {
    "name": "ipython",
    "version": 3
   },
   "file_extension": ".py",
   "mimetype": "text/x-python",
   "name": "python",
   "nbconvert_exporter": "python",
   "pygments_lexer": "ipython3",
   "version": "3.7.1"
  }
 },
 "nbformat": 4,
 "nbformat_minor": 2
}
