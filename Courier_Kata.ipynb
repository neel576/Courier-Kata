{
 "cells": [
  {
   "cell_type": "code",
   "execution_count": 234,
   "metadata": {},
   "outputs": [],
   "source": [
    "# Making an in-house dummy dataset as a dictionary with attributes: Sender name, dimensions, \n",
    "# weights and speedy shipping status\n",
    "Sender_list =[{'Sender':'A','Dimensions':[8,8,8,30,8,30,30,30,100,10,100,100],'Weights':[4,2,11,3,5,10,40,60,2,1,10,10],'Speedy Shipping':'N'}]\n",
    "        # {'Sender':'B','Dimensions':[49,49,49],'Weights':[2,10,3],'Speedy Shipping':'N'},\n",
    "        # {'Sender':'C','Dimensions':[25,20,3],'Weights':[7,4,3],'Speedy Shipping':'N'},\n",
    "        # {'Sender':'D','Dimensions':[9,80,5],'Weights':[53,20,3],'Speedy Shipping':'N'}]"
   ]
  },
  {
   "cell_type": "code",
   "execution_count": 235,
   "metadata": {},
   "outputs": [],
   "source": [
    "#Making an iteration through each of the Senders\n",
    "for Sender in Sender_list:\n",
    "    \n",
    "    # Finding the number of parcels\n",
    "    parcels = len(list(Sender['Dimensions']))\n",
    "    Small =0; Medium = 0; Mixed=0;\n",
    "    # Setting an array of zeros for Sender cost counter for each parcel for each Sender\n",
    "    Sender['Cost'] = np.zeros(parcels)\n",
    "    Sender['Discount'] = np.ones(parcels)\n",
    "    for p in list(range(0,parcels)):\n",
    "        Mixed+=1\n",
    "          \n",
    "        # Checking for Small parcels\n",
    "        if Sender['Dimensions'][p]<10:\n",
    "            Small += 1\n",
    "            \n",
    "            # Every 4th Small parcel is free order\n",
    "            if Small%4 ==0:\n",
    "                Sender['Discount'][p] =0\n",
    "                Mixed-=1\n",
    "            \n",
    "            Sender['Cost'][p] =3\n",
    "            \n",
    "            # Checking for overweight of Small parcels\n",
    "            if Sender['Weights'][p]>1:\n",
    "                Sender['Cost'][p] += (Sender['Weights'][p]-1)*2\n",
    "                \n",
    "        # Checking for Medium parcels\n",
    "        elif Sender['Dimensions'][p]<50:\n",
    "            Medium += 1\n",
    "            \n",
    "            # Every 3rd Medium parcel is free order\n",
    "            if Medium%3 ==0:\n",
    "                Sender['Discount'][p] =0\n",
    "                Mixed-=1\n",
    "  \n",
    "            Sender['Cost'][p] =8\n",
    "               \n",
    "            # Checking for overweight of Medium parcels\n",
    "            if Sender['Weights'][p]>3:\n",
    "                Sender['Cost'][p] += (Sender['Weights'][p]-3)*2\n",
    "                \n",
    "        # Checking for Large parcels\n",
    "        elif Sender['Dimensions'][p]<100:\n",
    "            Sender['Cost'][p] =15            \n",
    "            # Checking for overweight of Large parcels\n",
    "            if Sender['Weights'][p]>6:\n",
    "                Sender['Cost'][p] += (Sender['Weights'][p]-6)*2\n",
    "                \n",
    "        # Checking for XL parcels\n",
    "        else:\n",
    "            Sender['Cost'][p] =25         \n",
    "            # Checking for overweight of XL parcels\n",
    "            if Sender['Weights'][p]>10:\n",
    "                Sender['Cost'][p] += (Sender['Weights'][p]-10)*2\n",
    "                \n",
    "        # Checking for overweight of Heavy parcels\n",
    "        if Sender['Weights'][p]>50:\n",
    "            Sender['Cost'][p] = 50 +(Sender['Weights'][p]-50)\n",
    "            \n",
    "        # Every 5th parcel has no cost\n",
    "        if Mixed%5==0:\n",
    "            Sender['Discount'][p] =0\n",
    "            \n",
    "       \n",
    "       # # Checking for Speedy shipping        \n",
    "      #  if Sender['Speedy Shipping'] =='Y':\n",
    "       #     Sender['Cost'][p] = Sender['Cost'][p]*2;\n",
    "            \n",
    "    \n",
    "    "
   ]
  },
  {
   "cell_type": "code",
   "execution_count": 236,
   "metadata": {},
   "outputs": [
    {
     "name": "stdout",
     "output_type": "stream",
     "text": [
      "[ 9.  5. 23.  8. 11. 22. 82. 60. 25.  8. 25. 25.]\n",
      "[1. 1. 1. 1. 0. 0. 0. 1. 1. 1. 1. 0.]\n"
     ]
    }
   ],
   "source": [
    "for Sender in Sender_list:\n",
    "    print(Sender['Cost'])\n",
    "    print(Sender['Discount'])"
   ]
  },
  {
   "cell_type": "code",
   "execution_count": 228,
   "metadata": {},
   "outputs": [
    {
     "data": {
      "text/plain": [
       "8"
      ]
     },
     "execution_count": 228,
     "metadata": {},
     "output_type": "execute_result"
    }
   ],
   "source": [
    "c"
   ]
  },
  {
   "cell_type": "code",
   "execution_count": null,
   "metadata": {},
   "outputs": [],
   "source": []
  }
 ],
 "metadata": {
  "kernelspec": {
   "display_name": "Python 3",
   "language": "python",
   "name": "python3"
  },
  "language_info": {
   "codemirror_mode": {
    "name": "ipython",
    "version": 3
   },
   "file_extension": ".py",
   "mimetype": "text/x-python",
   "name": "python",
   "nbconvert_exporter": "python",
   "pygments_lexer": "ipython3",
   "version": "3.7.1"
  }
 },
 "nbformat": 4,
 "nbformat_minor": 2
}
